{
  "nbformat": 4,
  "nbformat_minor": 0,
  "metadata": {
    "colab": {
      "provenance": [],
      "gpuType": "T4"
    },
    "kernelspec": {
      "name": "python3",
      "display_name": "Python 3"
    },
    "language_info": {
      "name": "python"
    },
    "accelerator": "GPU"
  },
  "cells": [
    {
      "cell_type": "code",
      "execution_count": 2,
      "metadata": {
        "id": "AyPsKYBEn7sn"
      },
      "outputs": [],
      "source": [
        "from sklearn.metrics._plot.confusion_matrix import confusion_matrix\n",
        "import tensorflow as tf\n",
        "import pandas as pd\n",
        "from sklearn.metrics import classification_report,confusion_matrix\n",
        "from tensorflow.keras.datasets import cifar10\n",
        "from tensorflow.keras.applications import VGG19\n",
        "from tensorflow.keras.models import Sequential\n",
        "from tensorflow.keras.layers import Dense, Flatten, Dropout\n",
        "from tensorflow.keras.optimizers import Adam\n",
        "from tensorflow.keras.callbacks import ReduceLROnPlateau\n",
        "import numpy as np"
      ]
    },
    {
      "cell_type": "code",
      "source": [
        "(x_train,y_train),(x_test,y_test)=cifar10.load_data()\n"
      ],
      "metadata": {
        "id": "D6lOJjzBoM4Z",
        "colab": {
          "base_uri": "https://localhost:8080/"
        },
        "outputId": "599395dd-532d-492e-8609-359742395792"
      },
      "execution_count": 3,
      "outputs": [
        {
          "output_type": "stream",
          "name": "stdout",
          "text": [
            "Downloading data from https://www.cs.toronto.edu/~kriz/cifar-10-python.tar.gz\n",
            "170498071/170498071 [==============================] - 13s 0us/step\n"
          ]
        }
      ]
    },
    {
      "cell_type": "code",
      "source": [
        "x_train = x_train.astype('float32') / 255.0\n",
        "x_test = x_test.astype('float32') / 255.0"
      ],
      "metadata": {
        "id": "av8Em8BDoWAT"
      },
      "execution_count": 4,
      "outputs": []
    },
    {
      "cell_type": "code",
      "source": [
        "base_model =VGG19(weights='imagenet',include_top=False,input_shape=(32,32,3))\n"
      ],
      "metadata": {
        "id": "5tiU8WHtoaH9",
        "colab": {
          "base_uri": "https://localhost:8080/"
        },
        "outputId": "16126485-b1af-4406-fc63-86a5da4958eb"
      },
      "execution_count": 5,
      "outputs": [
        {
          "output_type": "stream",
          "name": "stdout",
          "text": [
            "Downloading data from https://storage.googleapis.com/tensorflow/keras-applications/vgg19/vgg19_weights_tf_dim_ordering_tf_kernels_notop.h5\n",
            "80134624/80134624 [==============================] - 5s 0us/step\n"
          ]
        }
      ]
    },
    {
      "cell_type": "code",
      "source": [
        "for layer in base_model.layers:\n",
        "  layer.trainable = False\n"
      ],
      "metadata": {
        "id": "Ju7q_NAgooik"
      },
      "execution_count": 6,
      "outputs": []
    },
    {
      "cell_type": "code",
      "source": [
        "model=Sequential()\n",
        "model.add(base_model)\n",
        "model.add(Flatten())\n",
        "model.add(Dense(512,activation='relu'))\n",
        "model.add(Dropout(0.5))\n",
        "model.add(Dense(10,activation='softmax'))\n"
      ],
      "metadata": {
        "id": "1Y8L1Ec9or5V"
      },
      "execution_count": 7,
      "outputs": []
    },
    {
      "cell_type": "code",
      "source": [
        "model.summary()"
      ],
      "metadata": {
        "colab": {
          "base_uri": "https://localhost:8080/"
        },
        "id": "a3F9GmYepuOp",
        "outputId": "29762d50-5c53-4993-82a3-b952137c2576"
      },
      "execution_count": 8,
      "outputs": [
        {
          "output_type": "stream",
          "name": "stdout",
          "text": [
            "Model: \"sequential\"\n",
            "_________________________________________________________________\n",
            " Layer (type)                Output Shape              Param #   \n",
            "=================================================================\n",
            " vgg19 (Functional)          (None, 1, 1, 512)         20024384  \n",
            "                                                                 \n",
            " flatten (Flatten)           (None, 512)               0         \n",
            "                                                                 \n",
            " dense (Dense)               (None, 512)               262656    \n",
            "                                                                 \n",
            " dropout (Dropout)           (None, 512)               0         \n",
            "                                                                 \n",
            " dense_1 (Dense)             (None, 10)                5130      \n",
            "                                                                 \n",
            "=================================================================\n",
            "Total params: 20,292,170\n",
            "Trainable params: 267,786\n",
            "Non-trainable params: 20,024,384\n",
            "_________________________________________________________________\n"
          ]
        }
      ]
    },
    {
      "cell_type": "code",
      "source": [
        "model.compile(optimizer=Adam(learning_rate=0.001), loss='sparse_categorical_crossentropy', metrics=['accuracy'])"
      ],
      "metadata": {
        "id": "p0K1GXw4sHDh"
      },
      "execution_count": 9,
      "outputs": []
    },
    {
      "cell_type": "code",
      "source": [
        "learning_rate_reduction = ReduceLROnPlateau(monitor='val_accuracy', patience=3, verbose=1, factor=0.5, min_lr=0.00001)"
      ],
      "metadata": {
        "id": "DBOYbkwmsJdf"
      },
      "execution_count": 10,
      "outputs": []
    },
    {
      "cell_type": "code",
      "source": [
        "model.fit(x_train, y_train, batch_size=64, epochs=40, validation_data=(x_test, y_test), callbacks=[learning_rate_reduction])"
      ],
      "metadata": {
        "colab": {
          "base_uri": "https://localhost:8080/"
        },
        "id": "E7D7jAJ8sLs6",
        "outputId": "b6c17b5b-8b02-4874-812b-6271f2f70443"
      },
      "execution_count": 11,
      "outputs": [
        {
          "output_type": "stream",
          "name": "stdout",
          "text": [
            "Epoch 1/40\n",
            "782/782 [==============================] - 23s 17ms/step - loss: 1.5061 - accuracy: 0.4681 - val_loss: 1.3071 - val_accuracy: 0.5440 - lr: 0.0010\n",
            "Epoch 2/40\n",
            "782/782 [==============================] - 13s 16ms/step - loss: 1.3224 - accuracy: 0.5350 - val_loss: 1.2540 - val_accuracy: 0.5534 - lr: 0.0010\n",
            "Epoch 3/40\n",
            "782/782 [==============================] - 13s 17ms/step - loss: 1.2680 - accuracy: 0.5518 - val_loss: 1.2193 - val_accuracy: 0.5656 - lr: 0.0010\n",
            "Epoch 4/40\n",
            "782/782 [==============================] - 14s 17ms/step - loss: 1.2361 - accuracy: 0.5649 - val_loss: 1.1952 - val_accuracy: 0.5800 - lr: 0.0010\n",
            "Epoch 5/40\n",
            "782/782 [==============================] - 14s 17ms/step - loss: 1.2086 - accuracy: 0.5752 - val_loss: 1.1772 - val_accuracy: 0.5883 - lr: 0.0010\n",
            "Epoch 6/40\n",
            "782/782 [==============================] - 13s 17ms/step - loss: 1.1846 - accuracy: 0.5826 - val_loss: 1.1827 - val_accuracy: 0.5847 - lr: 0.0010\n",
            "Epoch 7/40\n",
            "782/782 [==============================] - 14s 18ms/step - loss: 1.1669 - accuracy: 0.5907 - val_loss: 1.1536 - val_accuracy: 0.5956 - lr: 0.0010\n",
            "Epoch 8/40\n",
            "782/782 [==============================] - 14s 18ms/step - loss: 1.1476 - accuracy: 0.5953 - val_loss: 1.1484 - val_accuracy: 0.5970 - lr: 0.0010\n",
            "Epoch 9/40\n",
            "782/782 [==============================] - 13s 17ms/step - loss: 1.1312 - accuracy: 0.5980 - val_loss: 1.1480 - val_accuracy: 0.5969 - lr: 0.0010\n",
            "Epoch 10/40\n",
            "782/782 [==============================] - 13s 17ms/step - loss: 1.1162 - accuracy: 0.6066 - val_loss: 1.1441 - val_accuracy: 0.5982 - lr: 0.0010\n",
            "Epoch 11/40\n",
            "782/782 [==============================] - 14s 18ms/step - loss: 1.1042 - accuracy: 0.6101 - val_loss: 1.1282 - val_accuracy: 0.6037 - lr: 0.0010\n",
            "Epoch 12/40\n",
            "782/782 [==============================] - 14s 18ms/step - loss: 1.0880 - accuracy: 0.6164 - val_loss: 1.1270 - val_accuracy: 0.6094 - lr: 0.0010\n",
            "Epoch 13/40\n",
            "782/782 [==============================] - 13s 17ms/step - loss: 1.0798 - accuracy: 0.6212 - val_loss: 1.1191 - val_accuracy: 0.6100 - lr: 0.0010\n",
            "Epoch 14/40\n",
            "782/782 [==============================] - 14s 18ms/step - loss: 1.0709 - accuracy: 0.6204 - val_loss: 1.1133 - val_accuracy: 0.6164 - lr: 0.0010\n",
            "Epoch 15/40\n",
            "782/782 [==============================] - 13s 17ms/step - loss: 1.0532 - accuracy: 0.6298 - val_loss: 1.1199 - val_accuracy: 0.6091 - lr: 0.0010\n",
            "Epoch 16/40\n",
            "782/782 [==============================] - 13s 17ms/step - loss: 1.0447 - accuracy: 0.6302 - val_loss: 1.1097 - val_accuracy: 0.6205 - lr: 0.0010\n",
            "Epoch 17/40\n",
            "782/782 [==============================] - 14s 18ms/step - loss: 1.0330 - accuracy: 0.6358 - val_loss: 1.1106 - val_accuracy: 0.6132 - lr: 0.0010\n",
            "Epoch 18/40\n",
            "782/782 [==============================] - 13s 17ms/step - loss: 1.0219 - accuracy: 0.6382 - val_loss: 1.1103 - val_accuracy: 0.6151 - lr: 0.0010\n",
            "Epoch 19/40\n",
            "781/782 [============================>.] - ETA: 0s - loss: 1.0130 - accuracy: 0.6420\n",
            "Epoch 19: ReduceLROnPlateau reducing learning rate to 0.0005000000237487257.\n",
            "782/782 [==============================] - 14s 18ms/step - loss: 1.0130 - accuracy: 0.6420 - val_loss: 1.1247 - val_accuracy: 0.6111 - lr: 0.0010\n",
            "Epoch 20/40\n",
            "782/782 [==============================] - 14s 18ms/step - loss: 0.9563 - accuracy: 0.6626 - val_loss: 1.0892 - val_accuracy: 0.6305 - lr: 5.0000e-04\n",
            "Epoch 21/40\n",
            "782/782 [==============================] - 13s 17ms/step - loss: 0.9419 - accuracy: 0.6669 - val_loss: 1.0884 - val_accuracy: 0.6271 - lr: 5.0000e-04\n",
            "Epoch 22/40\n",
            "782/782 [==============================] - 13s 17ms/step - loss: 0.9313 - accuracy: 0.6695 - val_loss: 1.0890 - val_accuracy: 0.6260 - lr: 5.0000e-04\n",
            "Epoch 23/40\n",
            "780/782 [============================>.] - ETA: 0s - loss: 0.9273 - accuracy: 0.6714\n",
            "Epoch 23: ReduceLROnPlateau reducing learning rate to 0.0002500000118743628.\n",
            "782/782 [==============================] - 13s 17ms/step - loss: 0.9275 - accuracy: 0.6714 - val_loss: 1.0896 - val_accuracy: 0.6276 - lr: 5.0000e-04\n",
            "Epoch 24/40\n",
            "782/782 [==============================] - 14s 18ms/step - loss: 0.8927 - accuracy: 0.6855 - val_loss: 1.0803 - val_accuracy: 0.6288 - lr: 2.5000e-04\n",
            "Epoch 25/40\n",
            "782/782 [==============================] - 14s 18ms/step - loss: 0.8842 - accuracy: 0.6897 - val_loss: 1.0828 - val_accuracy: 0.6300 - lr: 2.5000e-04\n",
            "Epoch 26/40\n",
            "782/782 [==============================] - ETA: 0s - loss: 0.8785 - accuracy: 0.6888\n",
            "Epoch 26: ReduceLROnPlateau reducing learning rate to 0.0001250000059371814.\n",
            "782/782 [==============================] - 14s 18ms/step - loss: 0.8785 - accuracy: 0.6888 - val_loss: 1.0834 - val_accuracy: 0.6305 - lr: 2.5000e-04\n",
            "Epoch 27/40\n",
            "782/782 [==============================] - 14s 18ms/step - loss: 0.8621 - accuracy: 0.6942 - val_loss: 1.0803 - val_accuracy: 0.6304 - lr: 1.2500e-04\n",
            "Epoch 28/40\n",
            "782/782 [==============================] - 13s 17ms/step - loss: 0.8532 - accuracy: 0.6988 - val_loss: 1.0830 - val_accuracy: 0.6315 - lr: 1.2500e-04\n",
            "Epoch 29/40\n",
            "782/782 [==============================] - 13s 17ms/step - loss: 0.8563 - accuracy: 0.6991 - val_loss: 1.0849 - val_accuracy: 0.6337 - lr: 1.2500e-04\n",
            "Epoch 30/40\n",
            "782/782 [==============================] - 13s 17ms/step - loss: 0.8536 - accuracy: 0.6989 - val_loss: 1.0818 - val_accuracy: 0.6332 - lr: 1.2500e-04\n",
            "Epoch 31/40\n",
            "782/782 [==============================] - 14s 18ms/step - loss: 0.8488 - accuracy: 0.6989 - val_loss: 1.0858 - val_accuracy: 0.6319 - lr: 1.2500e-04\n",
            "Epoch 32/40\n",
            "781/782 [============================>.] - ETA: 0s - loss: 0.8468 - accuracy: 0.6993\n",
            "Epoch 32: ReduceLROnPlateau reducing learning rate to 6.25000029685907e-05.\n",
            "782/782 [==============================] - 14s 18ms/step - loss: 0.8468 - accuracy: 0.6993 - val_loss: 1.0818 - val_accuracy: 0.6337 - lr: 1.2500e-04\n",
            "Epoch 33/40\n",
            "782/782 [==============================] - 14s 18ms/step - loss: 0.8346 - accuracy: 0.7058 - val_loss: 1.0854 - val_accuracy: 0.6327 - lr: 6.2500e-05\n",
            "Epoch 34/40\n",
            "782/782 [==============================] - 14s 18ms/step - loss: 0.8331 - accuracy: 0.7063 - val_loss: 1.0849 - val_accuracy: 0.6329 - lr: 6.2500e-05\n",
            "Epoch 35/40\n",
            "782/782 [==============================] - ETA: 0s - loss: 0.8331 - accuracy: 0.7057\n",
            "Epoch 35: ReduceLROnPlateau reducing learning rate to 3.125000148429535e-05.\n",
            "782/782 [==============================] - 14s 17ms/step - loss: 0.8331 - accuracy: 0.7057 - val_loss: 1.0853 - val_accuracy: 0.6321 - lr: 6.2500e-05\n",
            "Epoch 36/40\n",
            "782/782 [==============================] - 14s 18ms/step - loss: 0.8289 - accuracy: 0.7084 - val_loss: 1.0837 - val_accuracy: 0.6336 - lr: 3.1250e-05\n",
            "Epoch 37/40\n",
            "782/782 [==============================] - 14s 18ms/step - loss: 0.8285 - accuracy: 0.7104 - val_loss: 1.0840 - val_accuracy: 0.6341 - lr: 3.1250e-05\n",
            "Epoch 38/40\n",
            "782/782 [==============================] - 14s 18ms/step - loss: 0.8273 - accuracy: 0.7087 - val_loss: 1.0848 - val_accuracy: 0.6350 - lr: 3.1250e-05\n",
            "Epoch 39/40\n",
            "782/782 [==============================] - 14s 18ms/step - loss: 0.8264 - accuracy: 0.7103 - val_loss: 1.0848 - val_accuracy: 0.6356 - lr: 3.1250e-05\n",
            "Epoch 40/40\n",
            "782/782 [==============================] - 14s 18ms/step - loss: 0.8226 - accuracy: 0.7107 - val_loss: 1.0852 - val_accuracy: 0.6341 - lr: 3.1250e-05\n"
          ]
        },
        {
          "output_type": "execute_result",
          "data": {
            "text/plain": [
              "<keras.callbacks.History at 0x7fd2d049cd60>"
            ]
          },
          "metadata": {},
          "execution_count": 11
        }
      ]
    },
    {
      "cell_type": "code",
      "source": [
        "metrics = pd.DataFrame(model.history.history)"
      ],
      "metadata": {
        "id": "pEBCsQotsYnB"
      },
      "execution_count": 12,
      "outputs": []
    },
    {
      "cell_type": "code",
      "source": [
        "metrics[['loss','val_loss']].plot()"
      ],
      "metadata": {
        "colab": {
          "base_uri": "https://localhost:8080/",
          "height": 448
        },
        "id": "eU69KEwLtlfY",
        "outputId": "3e0cf872-ca41-4fbe-c324-856b0391c7a2"
      },
      "execution_count": 13,
      "outputs": [
        {
          "output_type": "execute_result",
          "data": {
            "text/plain": [
              "<Axes: >"
            ]
          },
          "metadata": {},
          "execution_count": 13
        },
        {
          "output_type": "display_data",
          "data": {
            "text/plain": [
              "<Figure size 640x480 with 1 Axes>"
            ],
            "image/png": "[encoded data removed]"
          },
          "metadata": {}
        }
      ]
    },
    {
      "cell_type": "code",
      "source": [
        "\n",
        "metrics[['accuracy','val_accuracy']].plot()"
      ],
      "metadata": {
        "colab": {
          "base_uri": "https://localhost:8080/",
          "height": 448
        },
        "id": "Ho4e5y2DtqHU",
        "outputId": "b50e19d7-e65f-4366-d8a2-baeb9f610e1f"
      },
      "execution_count": 14,
      "outputs": [
        {
          "output_type": "execute_result",
          "data": {
            "text/plain": [
              "<Axes: >"
            ]
          },
          "metadata": {},
          "execution_count": 14
        },
        {
          "output_type": "display_data",
          "data": {
            "text/plain": [
              "<Figure size 640x480 with 1 Axes>"
            ],
            "image/png": "[encoded data removed]"
          },
          "metadata": {}
        }
      ]
    },
    {
      "cell_type": "code",
      "source": [
        "x_test_predictions = np.argmax(model.predict(x_test), axis=1)\n",
        "\n"
      ],
      "metadata": {
        "colab": {
          "base_uri": "https://localhost:8080/"
        },
        "id": "DuSIsM5GtFgH",
        "outputId": "1bdbbde9-ec8f-451b-c100-441b3294571a"
      },
      "execution_count": 15,
      "outputs": [
        {
          "output_type": "stream",
          "name": "stdout",
          "text": [
            "313/313 [==============================] - 3s 9ms/step\n"
          ]
        }
      ]
    },
    {
      "cell_type": "code",
      "source": [
        "print(confusion_matrix(y_test,x_test_predictions))\n"
      ],
      "metadata": {
        "colab": {
          "base_uri": "https://localhost:8080/"
        },
        "id": "cLruYVX8xYvm",
        "outputId": "03e3b6de-b4fa-4004-9672-84a4eede0ece"
      },
      "execution_count": 17,
      "outputs": [
        {
          "output_type": "stream",
          "name": "stdout",
          "text": [
            "[[714  22  51  22  20  13  13  16  93  36]\n",
            " [ 34 707  16  29  12  12  20  14  47 109]\n",
            " [ 59  20 528  72  93  63  98  33  23  11]\n",
            " [ 17  41  69 469  57 141  98  40  26  42]\n",
            " [ 20  16  80  70 576  41  93  64  24  16]\n",
            " [ 16  26  53 186  63 514  58  51  10  23]\n",
            " [ 10  19  50  48  74  41 725   8  16   9]\n",
            " [ 16  12  48  42  67  66  22 676   8  43]\n",
            " [ 75  58  20  19  15   1  10  10 751  41]\n",
            " [ 31 129  13  30  10  14  18  25  49 681]]\n"
          ]
        }
      ]
    },
    {
      "cell_type": "code",
      "source": [
        "print(classification_report(y_test,x_test_predictions))"
      ],
      "metadata": {
        "id": "zRcotch3xdEW",
        "colab": {
          "base_uri": "https://localhost:8080/"
        },
        "outputId": "a07a3fcb-e509-47b3-89d4-46b248ffc3da"
      },
      "execution_count": 18,
      "outputs": [
        {
          "output_type": "stream",
          "name": "stdout",
          "text": [
            "              precision    recall  f1-score   support\n",
            "\n",
            "           0       0.72      0.71      0.72      1000\n",
            "           1       0.67      0.71      0.69      1000\n",
            "           2       0.57      0.53      0.55      1000\n",
            "           3       0.48      0.47      0.47      1000\n",
            "           4       0.58      0.58      0.58      1000\n",
            "           5       0.57      0.51      0.54      1000\n",
            "           6       0.63      0.72      0.67      1000\n",
            "           7       0.72      0.68      0.70      1000\n",
            "           8       0.72      0.75      0.73      1000\n",
            "           9       0.67      0.68      0.68      1000\n",
            "\n",
            "    accuracy                           0.63     10000\n",
            "   macro avg       0.63      0.63      0.63     10000\n",
            "weighted avg       0.63      0.63      0.63     10000\n",
            "\n"
          ]
        }
      ]
    },
    {
      "cell_type": "code",
      "source": [],
      "metadata": {
        "id": "gPLp7gMhrDB4"
      },
      "execution_count": null,
      "outputs": []
    }
  ]
}