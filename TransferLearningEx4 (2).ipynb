{
  "nbformat": 4,
  "nbformat_minor": 0,
  "metadata": {
    "colab": {
      "provenance": [],
      "gpuType": "T4"
    },
    "kernelspec": {
      "name": "python3",
      "display_name": "Python 3"
    },
    "language_info": {
      "name": "python"
    },
    "accelerator": "GPU"
  },
  "cells": [
    {
      "cell_type": "code",
      "execution_count": 1,
      "metadata": {
        "id": "AyPsKYBEn7sn"
      },
      "outputs": [],
      "source": [
        "from sklearn.metrics._plot.confusion_matrix import confusion_matrix\n",
        "import tensorflow as tf\n",
        "import pandas as pd\n",
        "from sklearn.metrics import classification_report,confusion_matrix\n",
        "from tensorflow.keras.datasets import cifar10\n",
        "from tensorflow.keras.applications import VGG19\n",
        "from tensorflow.keras.models import Sequential\n",
        "from tensorflow.keras.layers import Dense, Flatten, Dropout\n",
        "from tensorflow.keras.optimizers import Adam\n",
        "from tensorflow.keras.callbacks import ReduceLROnPlateau"
      ]
    },
    {
      "cell_type": "code",
      "source": [
        "(x_train,y_train),(x_test,y_test)=cifar10.load_data()\n"
      ],
      "metadata": {
        "id": "D6lOJjzBoM4Z",
        "colab": {
          "base_uri": "https://localhost:8080/"
        },
        "outputId": "39d51419-d97a-4681-e2e9-c29290cc131b"
      },
      "execution_count": 2,
      "outputs": [
        {
          "output_type": "stream",
          "name": "stdout",
          "text": [
            "Downloading data from https://www.cs.toronto.edu/~kriz/cifar-10-python.tar.gz\n",
            "170498071/170498071 [==============================] - 11s 0us/step\n"
          ]
        }
      ]
    },
    {
      "cell_type": "code",
      "source": [
        "x_train = x_train.astype('float32') / 255.0\n",
        "x_test = x_test.astype('float32') / 255.0"
      ],
      "metadata": {
        "id": "av8Em8BDoWAT"
      },
      "execution_count": 3,
      "outputs": []
    },
    {
      "cell_type": "code",
      "source": [
        "base_model =VGG19(weights='imagenet',include_top=False,input_shape=(32,32,3))\n"
      ],
      "metadata": {
        "id": "5tiU8WHtoaH9",
        "colab": {
          "base_uri": "https://localhost:8080/"
        },
        "outputId": "36181c8c-a72a-458c-cf86-9844837d107f"
      },
      "execution_count": 4,
      "outputs": [
        {
          "output_type": "stream",
          "name": "stdout",
          "text": [
            "Downloading data from https://storage.googleapis.com/tensorflow/keras-applications/vgg19/vgg19_weights_tf_dim_ordering_tf_kernels_notop.h5\n",
            "80134624/80134624 [==============================] - 3s 0us/step\n"
          ]
        }
      ]
    },
    {
      "cell_type": "code",
      "source": [
        "for layer in base_model.layers:\n",
        "  layer.trainable = False\n"
      ],
      "metadata": {
        "id": "Ju7q_NAgooik"
      },
      "execution_count": 5,
      "outputs": []
    },
    {
      "cell_type": "code",
      "source": [
        "model=Sequential()\n",
        "model.add(base_model)\n",
        "model.add(Flatten())\n",
        "model.add(Dense(512,activation='relu'))\n",
        "model.add(Dropout(0.5))\n",
        "model.add(Dense(10,activation='softmax'))\n"
      ],
      "metadata": {
        "id": "1Y8L1Ec9or5V"
      },
      "execution_count": 6,
      "outputs": []
    },
    {
      "cell_type": "code",
      "source": [
        "model.summary()"
      ],
      "metadata": {
        "colab": {
          "base_uri": "https://localhost:8080/"
        },
        "id": "a3F9GmYepuOp",
        "outputId": "303e66b2-ef06-4f92-bfee-1b239e867ee7"
      },
      "execution_count": 7,
      "outputs": [
        {
          "output_type": "stream",
          "name": "stdout",
          "text": [
            "Model: \"sequential\"\n",
            "_________________________________________________________________\n",
            " Layer (type)                Output Shape              Param #   \n",
            "=================================================================\n",
            " vgg19 (Functional)          (None, 1, 1, 512)         20024384  \n",
            "                                                                 \n",
            " flatten (Flatten)           (None, 512)               0         \n",
            "                                                                 \n",
            " dense (Dense)               (None, 512)               262656    \n",
            "                                                                 \n",
            " dropout (Dropout)           (None, 512)               0         \n",
            "                                                                 \n",
            " dense_1 (Dense)             (None, 10)                5130      \n",
            "                                                                 \n",
            "=================================================================\n",
            "Total params: 20,292,170\n",
            "Trainable params: 267,786\n",
            "Non-trainable params: 20,024,384\n",
            "_________________________________________________________________\n"
          ]
        }
      ]
    },
    {
      "cell_type": "code",
      "source": [
        "model.compile(optimizer=Adam(learning_rate=0.001), loss='sparse_categorical_crossentropy', metrics=['accuracy'])"
      ],
      "metadata": {
        "id": "p0K1GXw4sHDh"
      },
      "execution_count": 8,
      "outputs": []
    },
    {
      "cell_type": "code",
      "source": [
        "learning_rate_reduction = ReduceLROnPlateau(monitor='val_accuracy', patience=3, verbose=1, factor=0.5, min_lr=0.00001)"
      ],
      "metadata": {
        "id": "DBOYbkwmsJdf"
      },
      "execution_count": 9,
      "outputs": []
    },
    {
      "cell_type": "code",
      "source": [
        "model.fit(x_train, y_train, batch_size=64, epochs=40, validation_data=(x_test, y_test), callbacks=[learning_rate_reduction])"
      ],
      "metadata": {
        "colab": {
          "base_uri": "https://localhost:8080/"
        },
        "id": "E7D7jAJ8sLs6",
        "outputId": "3d4f839c-d749-48e3-b7a1-2c382fe10822"
      },
      "execution_count": 10,
      "outputs": [
        {
          "output_type": "stream",
          "name": "stdout",
          "text": [
            "Epoch 1/40\n",
            "782/782 [==============================] - 25s 18ms/step - loss: 1.5043 - accuracy: 0.4659 - val_loss: 1.2972 - val_accuracy: 0.5428 - lr: 0.0010\n",
            "Epoch 2/40\n",
            "782/782 [==============================] - 14s 18ms/step - loss: 1.3256 - accuracy: 0.5328 - val_loss: 1.2470 - val_accuracy: 0.5572 - lr: 0.0010\n",
            "Epoch 3/40\n",
            "782/782 [==============================] - 14s 18ms/step - loss: 1.2695 - accuracy: 0.5522 - val_loss: 1.2225 - val_accuracy: 0.5709 - lr: 0.0010\n",
            "Epoch 4/40\n",
            "782/782 [==============================] - 14s 17ms/step - loss: 1.2345 - accuracy: 0.5672 - val_loss: 1.2064 - val_accuracy: 0.5737 - lr: 0.0010\n",
            "Epoch 5/40\n",
            "782/782 [==============================] - 14s 18ms/step - loss: 1.2067 - accuracy: 0.5747 - val_loss: 1.1754 - val_accuracy: 0.5858 - lr: 0.0010\n",
            "Epoch 6/40\n",
            "782/782 [==============================] - 14s 18ms/step - loss: 1.1859 - accuracy: 0.5798 - val_loss: 1.1742 - val_accuracy: 0.5870 - lr: 0.0010\n",
            "Epoch 7/40\n",
            "782/782 [==============================] - 13s 17ms/step - loss: 1.1648 - accuracy: 0.5907 - val_loss: 1.1533 - val_accuracy: 0.5932 - lr: 0.0010\n",
            "Epoch 8/40\n",
            "782/782 [==============================] - 14s 18ms/step - loss: 1.1472 - accuracy: 0.5954 - val_loss: 1.1469 - val_accuracy: 0.5975 - lr: 0.0010\n",
            "Epoch 9/40\n",
            "782/782 [==============================] - 13s 17ms/step - loss: 1.1301 - accuracy: 0.6008 - val_loss: 1.1536 - val_accuracy: 0.5947 - lr: 0.0010\n",
            "Epoch 10/40\n",
            "782/782 [==============================] - 13s 17ms/step - loss: 1.1155 - accuracy: 0.6039 - val_loss: 1.1364 - val_accuracy: 0.6039 - lr: 0.0010\n",
            "Epoch 11/40\n",
            "782/782 [==============================] - 14s 18ms/step - loss: 1.0999 - accuracy: 0.6099 - val_loss: 1.1375 - val_accuracy: 0.6006 - lr: 0.0010\n",
            "Epoch 12/40\n",
            "782/782 [==============================] - 14s 18ms/step - loss: 1.0897 - accuracy: 0.6158 - val_loss: 1.1289 - val_accuracy: 0.6024 - lr: 0.0010\n",
            "Epoch 13/40\n",
            "782/782 [==============================] - 13s 17ms/step - loss: 1.0777 - accuracy: 0.6173 - val_loss: 1.1257 - val_accuracy: 0.6089 - lr: 0.0010\n",
            "Epoch 14/40\n",
            "782/782 [==============================] - 13s 17ms/step - loss: 1.0626 - accuracy: 0.6250 - val_loss: 1.1187 - val_accuracy: 0.6090 - lr: 0.0010\n",
            "Epoch 15/40\n",
            "782/782 [==============================] - 13s 17ms/step - loss: 1.0565 - accuracy: 0.6261 - val_loss: 1.1235 - val_accuracy: 0.6102 - lr: 0.0010\n",
            "Epoch 16/40\n",
            "782/782 [==============================] - 14s 18ms/step - loss: 1.0401 - accuracy: 0.6317 - val_loss: 1.1142 - val_accuracy: 0.6129 - lr: 0.0010\n",
            "Epoch 17/40\n",
            "782/782 [==============================] - 14s 18ms/step - loss: 1.0305 - accuracy: 0.6342 - val_loss: 1.1147 - val_accuracy: 0.6152 - lr: 0.0010\n",
            "Epoch 18/40\n",
            "782/782 [==============================] - 13s 17ms/step - loss: 1.0208 - accuracy: 0.6370 - val_loss: 1.1090 - val_accuracy: 0.6143 - lr: 0.0010\n",
            "Epoch 19/40\n",
            "782/782 [==============================] - 13s 17ms/step - loss: 1.0150 - accuracy: 0.6409 - val_loss: 1.1177 - val_accuracy: 0.6172 - lr: 0.0010\n",
            "Epoch 20/40\n",
            "782/782 [==============================] - 14s 18ms/step - loss: 0.9980 - accuracy: 0.6462 - val_loss: 1.1107 - val_accuracy: 0.6210 - lr: 0.0010\n",
            "Epoch 21/40\n",
            "782/782 [==============================] - 13s 17ms/step - loss: 0.9890 - accuracy: 0.6502 - val_loss: 1.1219 - val_accuracy: 0.6179 - lr: 0.0010\n",
            "Epoch 22/40\n",
            "782/782 [==============================] - 14s 18ms/step - loss: 0.9803 - accuracy: 0.6501 - val_loss: 1.1191 - val_accuracy: 0.6177 - lr: 0.0010\n",
            "Epoch 23/40\n",
            "781/782 [============================>.] - ETA: 0s - loss: 0.9700 - accuracy: 0.6561\n",
            "Epoch 23: ReduceLROnPlateau reducing learning rate to 0.0005000000237487257.\n",
            "782/782 [==============================] - 13s 17ms/step - loss: 0.9701 - accuracy: 0.6560 - val_loss: 1.1067 - val_accuracy: 0.6209 - lr: 0.0010\n",
            "Epoch 24/40\n",
            "782/782 [==============================] - 14s 18ms/step - loss: 0.9181 - accuracy: 0.6730 - val_loss: 1.1025 - val_accuracy: 0.6244 - lr: 5.0000e-04\n",
            "Epoch 25/40\n",
            "782/782 [==============================] - 14s 18ms/step - loss: 0.8968 - accuracy: 0.6801 - val_loss: 1.1026 - val_accuracy: 0.6282 - lr: 5.0000e-04\n",
            "Epoch 26/40\n",
            "782/782 [==============================] - 14s 18ms/step - loss: 0.8887 - accuracy: 0.6849 - val_loss: 1.1009 - val_accuracy: 0.6248 - lr: 5.0000e-04\n",
            "Epoch 27/40\n",
            "782/782 [==============================] - 13s 17ms/step - loss: 0.8812 - accuracy: 0.6863 - val_loss: 1.1066 - val_accuracy: 0.6251 - lr: 5.0000e-04\n",
            "Epoch 28/40\n",
            "780/782 [============================>.] - ETA: 0s - loss: 0.8779 - accuracy: 0.6880\n",
            "Epoch 28: ReduceLROnPlateau reducing learning rate to 0.0002500000118743628.\n",
            "782/782 [==============================] - 13s 17ms/step - loss: 0.8781 - accuracy: 0.6879 - val_loss: 1.1101 - val_accuracy: 0.6261 - lr: 5.0000e-04\n",
            "Epoch 29/40\n",
            "782/782 [==============================] - 13s 17ms/step - loss: 0.8480 - accuracy: 0.6987 - val_loss: 1.0926 - val_accuracy: 0.6289 - lr: 2.5000e-04\n",
            "Epoch 30/40\n",
            "782/782 [==============================] - 14s 18ms/step - loss: 0.8358 - accuracy: 0.7045 - val_loss: 1.0985 - val_accuracy: 0.6299 - lr: 2.5000e-04\n",
            "Epoch 31/40\n",
            "782/782 [==============================] - 13s 17ms/step - loss: 0.8319 - accuracy: 0.7056 - val_loss: 1.1014 - val_accuracy: 0.6297 - lr: 2.5000e-04\n",
            "Epoch 32/40\n",
            "782/782 [==============================] - 13s 17ms/step - loss: 0.8274 - accuracy: 0.7059 - val_loss: 1.0972 - val_accuracy: 0.6299 - lr: 2.5000e-04\n",
            "Epoch 33/40\n",
            "780/782 [============================>.] - ETA: 0s - loss: 0.8208 - accuracy: 0.7090\n",
            "Epoch 33: ReduceLROnPlateau reducing learning rate to 0.0001250000059371814.\n",
            "782/782 [==============================] - 14s 18ms/step - loss: 0.8207 - accuracy: 0.7091 - val_loss: 1.1041 - val_accuracy: 0.6289 - lr: 2.5000e-04\n",
            "Epoch 34/40\n",
            "782/782 [==============================] - 14s 18ms/step - loss: 0.8062 - accuracy: 0.7152 - val_loss: 1.1012 - val_accuracy: 0.6322 - lr: 1.2500e-04\n",
            "Epoch 35/40\n",
            "782/782 [==============================] - 14s 18ms/step - loss: 0.8007 - accuracy: 0.7171 - val_loss: 1.1018 - val_accuracy: 0.6315 - lr: 1.2500e-04\n",
            "Epoch 36/40\n",
            "782/782 [==============================] - 13s 17ms/step - loss: 0.7963 - accuracy: 0.7182 - val_loss: 1.1041 - val_accuracy: 0.6321 - lr: 1.2500e-04\n",
            "Epoch 37/40\n",
            "780/782 [============================>.] - ETA: 0s - loss: 0.7974 - accuracy: 0.7155\n",
            "Epoch 37: ReduceLROnPlateau reducing learning rate to 6.25000029685907e-05.\n",
            "782/782 [==============================] - 14s 18ms/step - loss: 0.7973 - accuracy: 0.7156 - val_loss: 1.0994 - val_accuracy: 0.6315 - lr: 1.2500e-04\n",
            "Epoch 38/40\n",
            "782/782 [==============================] - 14s 18ms/step - loss: 0.7864 - accuracy: 0.7217 - val_loss: 1.1003 - val_accuracy: 0.6319 - lr: 6.2500e-05\n",
            "Epoch 39/40\n",
            "782/782 [==============================] - 14s 18ms/step - loss: 0.7877 - accuracy: 0.7216 - val_loss: 1.1016 - val_accuracy: 0.6327 - lr: 6.2500e-05\n",
            "Epoch 40/40\n",
            "782/782 [==============================] - 13s 17ms/step - loss: 0.7830 - accuracy: 0.7237 - val_loss: 1.1024 - val_accuracy: 0.6320 - lr: 6.2500e-05\n"
          ]
        },
        {
          "output_type": "execute_result",
          "data": {
            "text/plain": [
              "<keras.callbacks.History at 0x7fdc4c020790>"
            ]
          },
          "metadata": {},
          "execution_count": 10
        }
      ]
    },
    {
      "cell_type": "code",
      "source": [
        "metrics = pd.DataFrame(model.history.history)"
      ],
      "metadata": {
        "id": "pEBCsQotsYnB"
      },
      "execution_count": 11,
      "outputs": []
    },
    {
      "cell_type": "code",
      "source": [
        "metrics[['loss','val_loss']].plot()"
      ],
      "metadata": {
        "colab": {
          "base_uri": "https://localhost:8080/",
          "height": 448
        },
        "id": "eU69KEwLtlfY",
        "outputId": "ce1a3a6a-2927-4c4d-dc12-e69c07410478"
      },
      "execution_count": 12,
      "outputs": [
        {
          "output_type": "execute_result",
          "data": {
            "text/plain": [
              "<Axes: >"
            ]
          },
          "metadata": {},
          "execution_count": 12
        },
        {
          "output_type": "display_data",
          "data": {
            "text/plain": [
              "<Figure size 640x480 with 1 Axes>"
            ],
            "image/png": "[encoded data removed]"
          },
          "metadata": {}
        }
      ]
    },
    {
      "cell_type": "code",
      "source": [
        "\n",
        "metrics[['accuracy','val_accuracy']].plot()"
      ],
      "metadata": {
        "colab": {
          "base_uri": "https://localhost:8080/",
          "height": 448
        },
        "id": "Ho4e5y2DtqHU",
        "outputId": "37f8cf2b-f568-4bf4-bac8-b3b40675f1c8"
      },
      "execution_count": 13,
      "outputs": [
        {
          "output_type": "execute_result",
          "data": {
            "text/plain": [
              "<Axes: >"
            ]
          },
          "metadata": {},
          "execution_count": 13
        },
        {
          "output_type": "display_data",
          "data": {
            "text/plain": [
              "<Figure size 640x480 with 1 Axes>"
            ],
            "image/png": "[encoded data removed]"
          },
          "metadata": {}
        }
      ]
    },
    {
      "cell_type": "code",
      "source": [],
      "metadata": {
        "id": "DuSIsM5GtFgH"
      },
      "execution_count": 13,
      "outputs": []
    }
  ]
}